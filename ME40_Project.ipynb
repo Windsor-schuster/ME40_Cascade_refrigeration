{
 "cells": [
  {
   "cell_type": "code",
   "execution_count": 71,
   "id": "7fe3155f-4243-439c-9088-dd2d2a947960",
   "metadata": {},
   "outputs": [
    {
     "name": "stdout",
     "output_type": "stream",
     "text": [
      "Requirement already satisfied: CoolProp in /srv/conda/lib/python3.11/site-packages (6.6.0)\n"
     ]
    }
   ],
   "source": [
    "!pip install CoolProp\n",
    "from CoolProp.CoolProp import PropsSI"
   ]
  },
  {
   "cell_type": "code",
   "execution_count": 72,
   "id": "be8f4fff-d9f8-4c95-a4c0-2f818182b852",
   "metadata": {},
   "outputs": [],
   "source": [
    "fluid_low = 'CarbonDioxide'\n",
    "fluid_high = 'Ammonia'"
   ]
  },
  {
   "cell_type": "code",
   "execution_count": 111,
   "id": "52f6c3dd-501b-4d38-a508-60d7b032ae4b",
   "metadata": {},
   "outputs": [],
   "source": [
    "Tmiddle_K= 0+273.15"
   ]
  },
  {
   "cell_type": "code",
   "execution_count": 112,
   "id": "69be34cb-2d3b-4018-8e80-ec185481c3d4",
   "metadata": {},
   "outputs": [
    {
     "name": "stdout",
     "output_type": "stream",
     "text": [
      "T1 =253.150 K\n",
      "h1 =436891.398 J/kg\n",
      "s1 =1948.542 J/(Kg*K)\n",
      "P1 =1969628.002 Pa\n"
     ]
    }
   ],
   "source": [
    "#state 1\n",
    "T1_K=-20+273.15\n",
    "X1=1\n",
    "h1 = PropsSI('H','T',T1_K,'Q',X1,fluid_low)\n",
    "s1 = PropsSI('S','T',T1_K,'Q',X1,fluid_low)\n",
    "P1_Pa = PropsSI('P','T',T1_K,'Q',X1,fluid_low)\n",
    "\n",
    "print(f\"T1 ={T1_K:.3f} K\")\n",
    "print(f\"h1 ={h1:.3f} J/kg\")\n",
    "print(f\"s1 ={s1:.3f} J/(Kg*K)\")\n",
    "print(f\"P1 ={P1_Pa:.3f} Pa\")\n"
   ]
  },
  {
   "cell_type": "code",
   "execution_count": 113,
   "id": "fae0f88a-1556-409c-9ab8-9e5470f26852",
   "metadata": {},
   "outputs": [
    {
     "name": "stdout",
     "output_type": "stream",
     "text": [
      "T5 =273.150 K\n",
      "h5 =1607448.137 J/kg\n",
      "s5 =6102.833 J/(Kg*K)\n",
      "P5 =429247.799 Pa\n"
     ]
    }
   ],
   "source": [
    "#state 5\n",
    "T5_K=Tmiddle_K\n",
    "X5=1\n",
    "h5 = PropsSI('H','T',T5_K,'Q',X5,fluid_high)\n",
    "s5 = PropsSI('S','T',T5_K,'Q',X5,fluid_high)\n",
    "P5_Pa = PropsSI('P','T',T5_K,'Q',X5,fluid_high)\n",
    "\n",
    "\n",
    "print(f\"T5 ={T5_K:.3f} K\")\n",
    "print(f\"h5 ={h5:.3f} J/kg\")\n",
    "print(f\"s5 ={s5:.3f} J/(Kg*K)\")\n",
    "print(f\"P5 ={P5_Pa:.3f} Pa\")"
   ]
  },
  {
   "cell_type": "code",
   "execution_count": 114,
   "id": "c00c9c9e-2ecf-41a0-89fc-14b86f5aca15",
   "metadata": {},
   "outputs": [
    {
     "name": "stdout",
     "output_type": "stream",
     "text": [
      "T3 =273.150 K\n",
      "h3 =200000.000 J/kg\n",
      "s3 =1000.000 J/(Kg*K)\n",
      "P3 =3485140.758 Pa\n"
     ]
    }
   ],
   "source": [
    "#state 3\n",
    "T3_K=Tmiddle_K\n",
    "X3=0\n",
    "h3 = PropsSI('H','T',T3_K,'Q',X3,fluid_low)\n",
    "s3 = PropsSI('S','T',T3_K,'Q',X3,fluid_low)\n",
    "P3_Pa = PropsSI('P','T',T3_K,'Q',X3,fluid_low)\n",
    "\n",
    "print(f\"T3 ={T3_K:.3f} K\")\n",
    "print(f\"h3 ={h3:.3f} J/kg\")\n",
    "print(f\"s3 ={s3:.3f} J/(Kg*K)\")\n",
    "print(f\"P3 ={P3_Pa:.3f} Pa\")"
   ]
  },
  {
   "cell_type": "code",
   "execution_count": 115,
   "id": "1d26782f-e805-4c6e-9dab-e4eb5b94568e",
   "metadata": {},
   "outputs": [
    {
     "name": "stdout",
     "output_type": "stream",
     "text": [
      "T2 =292.124 K\n",
      "h2 =460009.956 J/kg\n",
      "s2 =1948.542 J/(Kg*K)\n",
      "P2 =3485140.758 Pa\n"
     ]
    }
   ],
   "source": [
    "#state 2\n",
    "s2=s1\n",
    "P2_Pa=P3_Pa\n",
    "h2=PropsSI('H','S',s2,'P',P2_Pa,fluid_low)\n",
    "T2_K=PropsSI('T','S',s2,'P',P2_Pa,fluid_low)\n",
    "\n",
    "print(f\"T2 ={T2_K:.3f} K\")\n",
    "print(f\"h2 ={h2:.3f} J/kg\")\n",
    "print(f\"s2 ={s2:.3f} J/(Kg*K)\")\n",
    "print(f\"P2 ={P2_Pa:.3f} Pa\")"
   ]
  },
  {
   "cell_type": "code",
   "execution_count": 116,
   "id": "c30bfbb2-4da8-4679-a841-452ac03eb1ad",
   "metadata": {},
   "outputs": [
    {
     "name": "stdout",
     "output_type": "stream",
     "text": [
      "T4 =253.150 K\n",
      "h4 =200000.000 J/kg\n",
      "s4 =1012.767 J/(Kg*K)\n",
      "P4 =1969628.002 Pa\n"
     ]
    }
   ],
   "source": [
    "#state 4\n",
    "P4_Pa=P1_Pa\n",
    "h4=h3\n",
    "s4 = PropsSI('S','H',h4,'P',P4_Pa,fluid_low)\n",
    "T4_K = PropsSI('T','H',h4,'P',P4_Pa,fluid_low)\n",
    "\n",
    "print(f\"T4 ={T4_K:.3f} K\")\n",
    "print(f\"h4 ={h4:.3f} J/kg\")\n",
    "print(f\"s4 ={s4:.3f} J/(Kg*K)\")\n",
    "print(f\"P4 ={P4_Pa:.3f} Pa\")"
   ]
  },
  {
   "cell_type": "code",
   "execution_count": 117,
   "id": "597865c7-5141-4ca3-87ed-77065dd0c52f",
   "metadata": {},
   "outputs": [
    {
     "name": "stdout",
     "output_type": "stream",
     "text": [
      "T7 =292.039 K\n",
      "h7 =1624796.950 J/kg\n",
      "s7 =5871.396 J/(Kg*K)\n",
      "P7 =827004.383 Pa\n"
     ]
    }
   ],
   "source": [
    "#state 7\n",
    "T7_K=18.889+273.15\n",
    "X7=1\n",
    "h7 = PropsSI('H','T',T7_K,'Q',X7,fluid_high)\n",
    "s7 = PropsSI('S','T',T7_K,'Q',X7,fluid_high)\n",
    "P7_Pa = PropsSI('P','T',T7_K,'Q',X7,fluid_high)\n",
    "\n",
    "print(f\"T7 ={T7_K:.3f} K\")\n",
    "print(f\"h7 ={h7:.3f} J/kg\")\n",
    "print(f\"s7 ={s7:.3f} J/(Kg*K)\")\n",
    "print(f\"P7 ={P7_Pa:.3f} Pa\")"
   ]
  },
  {
   "cell_type": "code",
   "execution_count": 118,
   "id": "a324abb4-ca07-43b8-982b-fb3a29093945",
   "metadata": {},
   "outputs": [
    {
     "name": "stdout",
     "output_type": "stream",
     "text": [
      "T6 =317.137 K\n",
      "h6 =1695185.214 J/kg\n",
      "s6 =6102.833 J/(Kg*K)\n",
      "P6 =827004.383 Pa\n"
     ]
    }
   ],
   "source": [
    "#state 6\n",
    "s6=s5\n",
    "P6_Pa=P7_Pa\n",
    "h6=PropsSI('H','S',s6,'P',P6_Pa,fluid_high)\n",
    "T6_K=PropsSI('T','S',s6,'P',P6_Pa,fluid_high)\n",
    "\n",
    "print(f\"T6 ={T6_K:.3f} K\")\n",
    "print(f\"h6 ={h6:.3f} J/kg\")\n",
    "print(f\"s6 ={s6:.3f} J/(Kg*K)\")\n",
    "print(f\"P6 ={P6_Pa:.3f} Pa\")"
   ]
  },
  {
   "cell_type": "code",
   "execution_count": 119,
   "id": "68abb9fa-67d0-423b-a2de-8e93bb217c2f",
   "metadata": {},
   "outputs": [
    {
     "name": "stdout",
     "output_type": "stream",
     "text": [
      "T8 =292.039 K\n",
      "h8 =1624796.950 J/kg\n",
      "s8 =5871.396 J/(Kg*K)\n",
      "P8 =429247.799 Pa\n"
     ]
    }
   ],
   "source": [
    "#state 8\n",
    "P8_Pa=P5_Pa\n",
    "h8=h7\n",
    "s8 = PropsSI('S','H',h8,'P',P7_Pa,fluid_high)\n",
    "T8_K = PropsSI('T','H',h8,'P',P7_Pa,fluid_high)\n",
    "\n",
    "print(f\"T8 ={T8_K:.3f} K\")\n",
    "print(f\"h8 ={h8:.3f} J/kg\")\n",
    "print(f\"s8 ={s8:.3f} J/(Kg*K)\")\n",
    "print(f\"P8 ={P8_Pa:.3f} Pa\")"
   ]
  },
  {
   "cell_type": "code",
   "execution_count": 120,
   "id": "69b0fb61-1e30-4b9b-9b30-440927d63c44",
   "metadata": {},
   "outputs": [],
   "source": [
    "q_low=(h1-h4)\n",
    "q_high=(h6-h7)\n",
    "w_low=(h2-h1)\n",
    "w_high=(h6-h5)"
   ]
  },
  {
   "cell_type": "code",
   "execution_count": 121,
   "id": "759dd3fb-94cb-497d-be12-8de49d058600",
   "metadata": {},
   "outputs": [],
   "source": [
    "w_in=w_low+w_high"
   ]
  },
  {
   "cell_type": "code",
   "execution_count": 122,
   "id": "0b6a1a8f-72a9-4818-a060-be1abc8ab9f6",
   "metadata": {},
   "outputs": [],
   "source": [
    "COP=q_low/w_in"
   ]
  },
  {
   "cell_type": "code",
   "execution_count": 123,
   "id": "b3eba8e4-281e-42a0-87c2-b8447cd744d7",
   "metadata": {},
   "outputs": [
    {
     "name": "stdout",
     "output_type": "stream",
     "text": [
      "2.1369360074585178\n"
     ]
    }
   ],
   "source": [
    "print(COP)"
   ]
  },
  {
   "cell_type": "code",
   "execution_count": 124,
   "id": "22f66c00-6413-468b-9883-aebcc3468baf",
   "metadata": {},
   "outputs": [
    {
     "name": "stdout",
     "output_type": "stream",
     "text": [
      "Work in =110855.635 J/Kg\n",
      "Heat in =236891.398 J/Kg\n",
      "Heat out =70388.264 J/Kg\n",
      "COP =2.137\n"
     ]
    }
   ],
   "source": [
    "print(f\"Work in ={w_in:.3f} J/Kg\")\n",
    "print(f\"Heat in ={q_low:.3f} J/Kg\")\n",
    "print(f\"Heat out ={q_high:.3f} J/Kg\")\n",
    "print(f\"COP ={COP:.3f}\")"
   ]
  }
 ],
 "metadata": {
  "kernelspec": {
   "display_name": "Python 3 (ipykernel)",
   "language": "python",
   "name": "python3"
  },
  "language_info": {
   "codemirror_mode": {
    "name": "ipython",
    "version": 3
   },
   "file_extension": ".py",
   "mimetype": "text/x-python",
   "name": "python",
   "nbconvert_exporter": "python",
   "pygments_lexer": "ipython3",
   "version": "3.11.10"
  }
 },
 "nbformat": 4,
 "nbformat_minor": 5
}
