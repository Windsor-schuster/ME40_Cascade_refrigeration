{
 "cells": [
  {
   "cell_type": "markdown",
   "id": "4754daba-1f40-45ff-9ac0-48219a8fa9d0",
   "metadata": {},
   "source": [
    "# Title: Cascading Refrigeration Cycle\n",
    "\n",
    "Date: 12 Dec 2024\n",
    "\n",
    "Group member 1:\n",
    "- Name: Schuster, Scott\n",
    "- University ID: 3038492251\n",
    "- Email: scott.schuster@berkeley.edu\n",
    "\n",
    "Group member 2:\n",
    "- Name: Kasolas, Alexander\n",
    "- University ID: 3037706037\n",
    "- Email: alexanderkasolas@berkeley.edu"
   ]
  },
  {
   "cell_type": "markdown",
   "id": "27b7727a-c449-4357-af13-ac2e7af7e7d0",
   "metadata": {},
   "source": [
    "-------\n",
    "\n",
    "## Summary and Problem Statement (200 words maximum)\n",
    "Driven by the dual needs to reduce the use of refrigerants with high global warming potential and increase the COP of refrigerators to reduce electricity consumption, scientists have looked at developing solid-state refrigerators to replace convential vapor-compression systems.\n",
    "\n",
    "One class of materials used for this purpose are called elastocalorics. For example, if you take a rubberband and quickly stretch it, it heats up. The reason for that elastocaloric effect is that upon rapid stretching, the entropy associated with the rubber molecules, which are now more odered, is lowered. Because you do this process rapidly, it is quasi-adiabatic, hence the heating effect. Subsequent relaxation will cool it.\n",
    "\n",
    "Can you design a refrigeration cycle in which rubber is repeatedly stretched and released with heat being exchanged with the environment?"
   ]
  },
  {
   "cell_type": "markdown",
   "id": "0e484ac0-1941-44f8-8d9f-e2d8c28e8acc",
   "metadata": {},
   "source": [
    "-------\n",
    "\n",
    "## Background information (250 words maximum)\n",
    "Solid-state refrigeration represents a transformative approach to cooling technologies. Unlike traditional refrigeration systems that rely on vapor-compression cycles using gaseous refrigerants, solid-state refrigeration utilizes solid materials and physical mechanisms to achieve cooling effects. This technology has gained attention due to its potential for higher energy efficiency, environmental friendliness, and the absence of moving parts, which could lead to quieter and more reliable systems. Elastocaloric material (ECMs) are at the core of solid-state refrigeration technology. These materials exhibit a significant temperature change when subjected to mechanical stress, such as stretching or compression.\n",
    "\n",
    "#### Nitinol: A Prime Example (is rubber a good choice?)\n",
    "- **Composition:** Nickel-Titanium (NiTi) alloys, known as Nitinol, are prominent elastocaloric materials.\n",
    "- **Functioning:** When mechanically deformed, Nitinol heats up; upon release of the stress, it cools down. This reversible thermal effect is harnessed in a refrigeration cycle.\n",
    "\n",
    "#### Advantages of Elastocaloric Materials:\n",
    "1. **No Greenhouse Gases:** They eliminate the need for traditional refrigerants.\n",
    "2. **High Efficiency:** Capable of achieving significant temperature changes with small mechanical forces.\n",
    "3. **Innovative Design:** Enables the development of compact and modular refrigeration units.\n",
    "\n",
    "#### Challenges and Future Prospects\n",
    "While solid-state refrigeration using elastocaloric materials offers numerous advantages, several challenges need to be addressed:\n",
    "- **Material Fatigue:** Repeated mechanical stress can lead to material degradation.\n",
    "- **Cost and Scalability:** Developing cost-effective and scalable systems for commercial use.\n",
    "- **System Design:** Designing systems that efficiently harness the elastocaloric effect for practical applications."
   ]
  },
  {
   "cell_type": "markdown",
   "id": "84a3a063-9b44-4abe-bc2f-9d4d5aa1a293",
   "metadata": {},
   "source": [
    "-------\n",
    "\n",
    "## Modeling the Thermodynamic Process\n",
    "\n"
   ]
  },
  {
   "cell_type": "code",
   "execution_count": 72,
   "id": "ca63d327-cac4-41ac-ab9a-a2da302926f4",
   "metadata": {},
   "outputs": [
    {
     "name": "stdout",
     "output_type": "stream",
     "text": [
      "Requirement already satisfied: sympy in /srv/conda/lib/python3.11/site-packages (1.8)\n",
      "Requirement already satisfied: mpmath>=0.19 in /srv/conda/lib/python3.11/site-packages (from sympy) (1.3.0)\n",
      "Requirement already satisfied: CoolProp in /srv/conda/lib/python3.11/site-packages (6.6.0)\n"
     ]
    }
   ],
   "source": [
    "import numpy as np\n",
    "import matplotlib.pyplot as plt\n",
    "from scipy.interpolate import interp1d\n",
    "!pip3 install sympy\n",
    "import sympy as sp\n",
    "!pip3 install CoolProp\n",
    "from CoolProp.CoolProp import PropsSI"
   ]
  },
  {
   "cell_type": "markdown",
   "id": "ff4f1ad2-f6ab-4e69-9c22-bdff39dcee3c",
   "metadata": {},
   "source": [
    "1-2: Isentropic compression: The CO2 is compressed isentropically which means that S1=S2. T1 is given by the problem statement as -20°C and T2 is defined by us to be 0°C. This process takes work and contributes to overall Win. We assume isentropic efficiency to be 1.\n",
    "\n",
    "2-3: Condenser (Heat Transfer): Heat is transferred from the CO2 cycle to the ammonia cycle. T3 and T5 are the same or very close because if T5>T3 heat would flow from the ammonia cycle to the CO2 cycle which is opposite to what we want and if T3>T5 the CO2 cycle is not transfering the maximum amount of heat to the ammonia cycle. We assume max efficiency and thus we chose T3=T5. P3=P2 as a condensor is isobaric.\n",
    "\n",
    "3-4: Expansion valve: This process is an isenthalpic. There is no work or heat released from the system or inputted into the system. \n",
    "\n",
    "4-1: Heat Input: Between states 4 and 1 heat from the refrigeration space is put into our CO2 cycle until T1= Tambient in the clod refrigerated space. There is no work in but there is heat in. \n",
    "\n",
    "5-6: Isentropic compression: The ammonia is compressed isentropically which means that S1=S2. T5=T3 for reasons given in state 2-3. We also know that P6=P7 as condensers are isobaric. This process takes work and contributes to overall Win. We assume isentropic efficiency to be 1.\n",
    "\n",
    "6-7: Condenser (Heat Transfer): Heat is transferred from the CO2 cycle to the atmosphere. T7 and T_High are the same or very close because if T_High>T7 heat would flow from the atmosphere to the ammonia cycle which is opposite to what we want and if T7>T_High the ammonia cycle is not transfering the maximum amount of heat to the atmosphere. We assume max efficiency and thus we chose T7=T_High. P6=P7 as it is an isobaric condenser. \n",
    "\n",
    "7-8: Expansion valve: This process is an isenthalpic. There is no work or heat released from the system or inputted into the system. \n",
    "\n",
    "8-5: Heat Input: Between states 8 and 5 heat from CO2 cycle is put into our ammonia cycle until T5=T3. There is no work in but there is heat in. Since it is an evaporator P5=P8 \n",
    "\n",
    "\n"
   ]
  },
  {
   "cell_type": "markdown",
   "id": "18157e76-992a-4ccd-9d5b-cf5be3fe4728",
   "metadata": {},
   "source": [
    "#### Defining terms "
   ]
  },
  {
   "cell_type": "code",
   "execution_count": 73,
   "id": "751cb2b5-3649-4b3e-80d3-7ff7b3941fae",
   "metadata": {},
   "outputs": [],
   "source": [
    "fluid_low = 'CarbonDioxide'\n",
    "fluid_high = 'Ammonia'"
   ]
  },
  {
   "cell_type": "markdown",
   "id": "a14e73e4-2c3d-4172-9c58-8661319797db",
   "metadata": {},
   "source": [
    "#### Tmiddle temp\n",
    "we chose Tmiddle to be the average temperature in berkeley to be 60°F which is 18.889°C"
   ]
  },
  {
   "cell_type": "code",
   "execution_count": 99,
   "id": "8d32b5c6-f58e-4b28-a9dd-38f03a99456c",
   "metadata": {},
   "outputs": [],
   "source": [
    "Tmiddle_K= 0+273.15"
   ]
  },
  {
   "cell_type": "markdown",
   "id": "48697b22-9df4-4d16-9db1-6cf81541df5e",
   "metadata": {},
   "source": [
    "#### State 1"
   ]
  },
  {
   "cell_type": "code",
   "execution_count": 100,
   "id": "3cde8b82-745f-47d9-a195-50d8a6fbc95c",
   "metadata": {},
   "outputs": [],
   "source": [
    "T1_K=-20+273.15\n",
    "X1=1\n",
    "\n",
    "h1 = PropsSI('H','T',T1_K,'Q',X1,fluid_low)\n",
    "s1 = PropsSI('S','T',T1_K,'Q',X1,fluid_low)\n",
    "P1_Pa = PropsSI('P','T',T1_K,'Q',X1,fluid_low)"
   ]
  },
  {
   "cell_type": "markdown",
   "id": "99af309f-e84f-4771-8383-030bf4b7ca7d",
   "metadata": {},
   "source": [
    "#### State 2"
   ]
  },
  {
   "cell_type": "code",
   "execution_count": 101,
   "id": "c137e8fa-4e4c-4d00-a2b6-22f3fe5eea7d",
   "metadata": {},
   "outputs": [],
   "source": [
    "s2=s1\n",
    "T2_K=Tmiddle_K\n",
    "\n",
    "h2=PropsSI('H','S',s2,'T',T2_K,fluid_low)\n",
    "P2_Pa=PropsSI('P','S',s2,'T',T2_K,fluid_low)"
   ]
  },
  {
   "cell_type": "markdown",
   "id": "3baebc92-e81a-420a-9842-41a9a3a5798b",
   "metadata": {},
   "source": [
    "#### State 3"
   ]
  },
  {
   "cell_type": "code",
   "execution_count": 102,
   "id": "61819257-f642-4baf-bc5d-65b8aa4a249c",
   "metadata": {},
   "outputs": [],
   "source": [
    "P3_Pa=P2_Pa\n",
    "X3=0\n",
    "\n",
    "h3 = PropsSI('H','P',P3_Pa,'Q',X3,fluid_low)\n",
    "s3 = PropsSI('S','P',P3_Pa,'Q',X3,fluid_low)\n",
    "T3_K = PropsSI('T','P',P3_Pa,'Q',X3,fluid_low)"
   ]
  },
  {
   "cell_type": "markdown",
   "id": "6e3b5cf8-ca8a-48e1-af12-179fab21a7f4",
   "metadata": {},
   "source": [
    "#### State 4"
   ]
  },
  {
   "cell_type": "code",
   "execution_count": 103,
   "id": "cf092495-fd5c-4e32-a4f2-d5a715bee5f8",
   "metadata": {},
   "outputs": [],
   "source": [
    "P4_Pa=P1_Pa\n",
    "h4=h3\n",
    "\n",
    "s4 = PropsSI('S','H',h4,'P',P4_Pa,fluid_low)\n",
    "T4_K = PropsSI('T','H',h4,'P',P4_Pa,fluid_low)"
   ]
  },
  {
   "cell_type": "markdown",
   "id": "e2c00c3d-46d3-422b-90bd-5f4e0f122c0e",
   "metadata": {},
   "source": [
    "#### State 5"
   ]
  },
  {
   "cell_type": "code",
   "execution_count": 104,
   "id": "11f82c7c-6700-47dd-adb0-535ab4b1537f",
   "metadata": {},
   "outputs": [],
   "source": [
    "T5_K=T3_K\n",
    "X5=1\n",
    "\n",
    "h5 = PropsSI('H','T',T5_K,'Q',X5,fluid_high)\n",
    "s5 = PropsSI('S','T',T5_K,'Q',X5,fluid_high)\n",
    "P5_Pa = PropsSI('P','T',T5_K,'Q',X5,fluid_high)"
   ]
  },
  {
   "cell_type": "markdown",
   "id": "4bb5ef29-6ade-45ce-b248-16eb4c5ca113",
   "metadata": {},
   "source": [
    "#### State 7"
   ]
  },
  {
   "cell_type": "code",
   "execution_count": 105,
   "id": "25f86e6c-8072-4a2e-8a2f-867907ef6714",
   "metadata": {},
   "outputs": [],
   "source": [
    "T7_K=18.889+273.15\n",
    "X7=0\n",
    "\n",
    "h7 = PropsSI('H','T',T7_K,'Q',X7,fluid_high)\n",
    "s7 = PropsSI('S','T',T7_K,'Q',X7,fluid_high)\n",
    "P7_Pa = PropsSI('P','T',T7_K,'Q',X7,fluid_high)"
   ]
  },
  {
   "cell_type": "markdown",
   "id": "26ef5407-ac43-4dbd-8ad6-4e8ccccec17e",
   "metadata": {},
   "source": [
    "#### State 6"
   ]
  },
  {
   "cell_type": "code",
   "execution_count": 106,
   "id": "3b907f8d-ca1e-465c-bc4f-82f6d3e05460",
   "metadata": {},
   "outputs": [],
   "source": [
    "s6=s5\n",
    "P6_Pa=P7_Pa\n",
    "\n",
    "h6=PropsSI('H','S',s6,'P',P6_Pa,fluid_high)\n",
    "T6_K=PropsSI('T','S',s6,'P',P6_Pa,fluid_high)"
   ]
  },
  {
   "cell_type": "markdown",
   "id": "227801a0-e777-4940-935d-e57b4076ee13",
   "metadata": {},
   "source": [
    "#### State 8"
   ]
  },
  {
   "cell_type": "code",
   "execution_count": 107,
   "id": "13ef551d-8380-4dcc-a7dd-e19a9088a2d0",
   "metadata": {},
   "outputs": [],
   "source": [
    "P8_Pa=P5_Pa\n",
    "h8=h7\n",
    "\n",
    "s8 = PropsSI('S','H',h8,'P',P8_Pa,fluid_high)\n",
    "T8_K = PropsSI('T','H',h8,'P',P8_Pa,fluid_high)"
   ]
  },
  {
   "cell_type": "markdown",
   "id": "92084f4a-026d-4fa5-82bf-d28ab37b2fb5",
   "metadata": {},
   "source": [
    "#### Determining mdot\n",
    "$$\n",
    "Q_{32,\\text{out}} = Q_{85,\\text{in}}\n",
    "$$\n",
    "\n",
    "$$\n",
    "Q = \\dot{m} \\cdot (h_2 - h_1)\n",
    "$$\n",
    "\n",
    "$$\n",
    "\\frac{\\dot{m}_{\\text{CO}_2}}{\\dot{m}_{\\text{ammonia}}} = \\frac{h_5 - h_8}{h_2 - h_3}\n",
    "$$\n",
    "\n",
    "$$\n",
    "\\dot{m}_{\\text{ammonia}} = \\dot{m}_{\\text{CO}_2} \\cdot \\frac{h_2 - h_3}{h_5 - h_8}\n",
    "$$\n",
    "\n"
   ]
  },
  {
   "cell_type": "code",
   "execution_count": 108,
   "id": "105107d8-812c-4fcc-a3c4-7e4e865bc80d",
   "metadata": {},
   "outputs": [],
   "source": [
    "mdopt_CO2=0.05\n",
    "mdot_Ammonia= mdopt_CO2* (h2-h3)/(h5-h8)"
   ]
  },
  {
   "cell_type": "markdown",
   "id": "9ffbdc60-7f78-4b54-966b-bd6bc91cfa38",
   "metadata": {},
   "source": [
    "#### Determining Work and Heat\n",
    "$$\n",
    "q_{\\text{low}} = \\dot{m}_{\\text{CO}_2} \\cdot (h_1 - h_4)\n",
    "$$\n",
    "\n",
    "$$\n",
    "q_{\\text{high}} = \\dot{m}_{\\text{Ammonia}} \\cdot (h_7 - h_6)\n",
    "$$\n",
    "\n",
    "$$\n",
    "w_{\\text{low}} = \\dot{m}_{\\text{CO}_2} \\cdot (h_2 - h_1)\n",
    "$$\n",
    "\n",
    "$$\n",
    "w_{\\text{high}} = \\dot{m}_{\\text{Ammonia}} \\cdot (h_6 - h_5)\n",
    "$$\n",
    "\n",
    "$$\n",
    "w_{\\text{total}} = w_{\\text{low}} + w_{\\text{high}}\n",
    "$$\n"
   ]
  },
  {
   "cell_type": "code",
   "execution_count": 109,
   "id": "18c97ffa-3ba5-4428-9c08-7ed4139805b0",
   "metadata": {},
   "outputs": [],
   "source": [
    "q_low=mdopt_CO2 * (h1-h4)\n",
    "q_high=mdot_Ammonia*(h7-h6)\n",
    "w_low=mdopt_CO2*(h2-h1)\n",
    "w_high=mdot_Ammonia*(h6-h5)\n",
    "w_in=w_low+w_high"
   ]
  },
  {
   "cell_type": "markdown",
   "id": "801f06b8-0656-47ad-a717-3a09eeacf7a4",
   "metadata": {},
   "source": [
    "#### Determining the COP\n",
    "\n",
    "The COP is then qlow/win"
   ]
  },
  {
   "cell_type": "code",
   "execution_count": 110,
   "id": "429a43a4-ec2c-41b5-9e37-a6b996949bac",
   "metadata": {},
   "outputs": [
    {
     "name": "stdout",
     "output_type": "stream",
     "text": [
      "5.7555229270006025\n"
     ]
    }
   ],
   "source": [
    "COP=q_low/w_in\n",
    "print(COP)"
   ]
  },
  {
   "cell_type": "markdown",
   "id": "20f81f7c-ad20-4ff0-945b-9904837f2d64",
   "metadata": {},
   "source": [
    "-----\n",
    "\n",
    "## Improving the performance\n",
    "\n",
    "One way to improve the performance is to make this change would be to change Tmiddle_K and then find the max COP and at what temperature that occurs at "
   ]
  },
  {
   "cell_type": "markdown",
   "id": "7ed9e9ea-71cd-46f0-aa87-9df506fcb8f7",
   "metadata": {},
   "source": [
    "#### COP finder\n",
    "To do this we take the same states as above we just change Tmiddle_K to an input value and also T_low and T_high incase we want to change those."
   ]
  },
  {
   "cell_type": "code",
   "execution_count": 111,
   "id": "89506042-dc82-422d-be9c-98349ac2d5a8",
   "metadata": {},
   "outputs": [],
   "source": [
    "def COP_finder(T,T_low,T_high):\n",
    "    fluid_low = 'CarbonDioxide'\n",
    "    fluid_high = 'Ammonia'\n",
    "    \n",
    "    Tmiddle_K= T+273.15\n",
    "    \n",
    "    #state 1\n",
    "    T1_K=T_low+273.15\n",
    "    X1=1\n",
    "    h1 = PropsSI('H','T',T1_K,'Q',X1,fluid_low)\n",
    "    s1 = PropsSI('S','T',T1_K,'Q',X1,fluid_low)\n",
    "    P1_Pa = PropsSI('P','T',T1_K,'Q',X1,fluid_low)\n",
    "    \n",
    "    #state 2\n",
    "    s2=s1\n",
    "    T2_K=Tmiddle_K\n",
    "    \n",
    "    h2=PropsSI('H','S',s2,'T',T2_K,fluid_low)\n",
    "    P2_Pa=PropsSI('P','S',s2,'T',T2_K,fluid_low)\n",
    "    \n",
    "    #state 3\n",
    "    P3_Pa=P2_Pa\n",
    "    X3=0\n",
    "    \n",
    "    h3 = PropsSI('H','P',P3_Pa,'Q',X3,fluid_low)\n",
    "    s3 = PropsSI('S','P',P3_Pa,'Q',X3,fluid_low)\n",
    "    T3_K = PropsSI('T','P',P3_Pa,'Q',X3,fluid_low)\n",
    "    \n",
    "    #state 4\n",
    "    P4_Pa=P1_Pa\n",
    "    h4=h3\n",
    "    s4 = PropsSI('S','H',h4,'P',P4_Pa,fluid_low)\n",
    "    T4_K = PropsSI('T','H',h4,'P',P4_Pa,fluid_low)\n",
    "    \n",
    "    #state 5\n",
    "    T5_K=T3_K\n",
    "    X5=1\n",
    "    \n",
    "    h5 = PropsSI('H','T',T5_K,'Q',X5,fluid_high)\n",
    "    s5 = PropsSI('S','T',T5_K,'Q',X5,fluid_high)\n",
    "    P5_Pa = PropsSI('P','T',T5_K,'Q',X5,fluid_high)\n",
    "    \n",
    "    #state 7\n",
    "    T7_K=18.889+273.15\n",
    "    X7=0\n",
    "    h7 = PropsSI('H','T',T7_K,'Q',X7,fluid_high)\n",
    "    s7 = PropsSI('S','T',T7_K,'Q',X7,fluid_high)\n",
    "    P7_Pa = PropsSI('P','T',T7_K,'Q',X7,fluid_high)\n",
    "    \n",
    "    #state 6\n",
    "    s6=s5\n",
    "    P6_Pa=P7_Pa\n",
    "    h6=PropsSI('H','S',s6,'P',P6_Pa,fluid_high)\n",
    "    T6_K=PropsSI('T','S',s6,'P',P6_Pa,fluid_high)\n",
    "    \n",
    "    #state 8\n",
    "    P8_Pa=P5_Pa\n",
    "    h8=h7\n",
    "    \n",
    "    s8 = PropsSI('S','H',h8,'P',P8_Pa,fluid_high)\n",
    "    T8_K = PropsSI('T','H',h8,'P',P8_Pa,fluid_high)\n",
    "\n",
    "    mdopt_CO2=0.05\n",
    "    mdot_Ammonia= mdopt_CO2* (h2-h3)/(h5-h8)\n",
    "    q_low=mdopt_CO2 * (h1-h4)\n",
    "    q_high=mdot_Ammonia*(h7-h6)\n",
    "    w_low=mdopt_CO2*(h2-h1)\n",
    "    w_high=mdot_Ammonia*(h6-h5)\n",
    "\n",
    "    w_in=w_low+w_high\n",
    "    COP=q_low/w_in\n",
    "    return COP"
   ]
  },
  {
   "cell_type": "markdown",
   "id": "0302d192-2055-432d-b8f2-c48791d42f9f",
   "metadata": {},
   "source": [
    "#### Sweep and plot function\n",
    "Once we have the function we can plot the values and find the max COP and T"
   ]
  },
  {
   "cell_type": "code",
   "execution_count": 112,
   "id": "790e4643-1549-4603-9224-32c62661257f",
   "metadata": {},
   "outputs": [
    {
     "name": "stdout",
     "output_type": "stream",
     "text": [
      "The max COP of 5.75569 occurs when T=0.57454 C or T=273.72454 K \n"
     ]
    },
    {
     "data": {
      "image/png": "[encoded data removed]",
      "text/plain": [
       "<Figure size 640x480 with 1 Axes>"
      ]
     },
     "metadata": {},
     "output_type": "display_data"
    }
   ],
   "source": [
    "T_high_C = 18.889\n",
    "T_low_C = -20\n",
    "T=np.linspace(T_low_C,T_high_C,num=500)\n",
    "\n",
    "COP_Temp=[]\n",
    "\n",
    "for i in T:\n",
    "    COP1= COP_finder(i,T_low_C,T_high_C)\n",
    "    COP_Temp.append(COP1)\n",
    "\n",
    "plt.plot(T,COP_Temp,'bo')\n",
    "plt.xlabel(\"T* (C)\")\n",
    "plt.ylabel(\"COP\")\n",
    "\n",
    "max_COP=max(COP_Temp)\n",
    "max_COP_index=COP_Temp.index(max_COP)\n",
    "\n",
    "T_max_COP=T[max_COP_index]\n",
    "\n",
    "print(f'The max COP of {max_COP:.5f} occurs when T={T_max_COP :.5f} C or T={T_max_COP+273.15 :.5f} K ')\n"
   ]
  },
  {
   "cell_type": "markdown",
   "id": "439f80af-76a3-4708-a46d-73afb2d9a662",
   "metadata": {},
   "source": [
    "#### Another improvement\n",
    "We also though about using a turbine instead of the expansion valves. It would also change the optimal Tmiddle because state 8 and 4 would change. We were inspired by the Brayton cycle to couple the work out from the turbine to the work in from the compressor to lower the work in. This is beneficial as it should boost our COP by a large amount."
   ]
  },
  {
   "cell_type": "code",
   "execution_count": 113,
   "id": "7890c6e0-0da5-4977-acc7-8762237dcf07",
   "metadata": {},
   "outputs": [],
   "source": [
    "def COP_finder_Turbine(T,T_low,T_high):\n",
    "    fluid_low = 'CarbonDioxide'\n",
    "    fluid_high = 'Ammonia'\n",
    "    \n",
    "    Tmiddle_K= T+273.15\n",
    "    \n",
    "    #state 1\n",
    "    T1_K=T_low+273.15\n",
    "    X1=1\n",
    "    h1 = PropsSI('H','T',T1_K,'Q',X1,fluid_low)\n",
    "    s1 = PropsSI('S','T',T1_K,'Q',X1,fluid_low)\n",
    "    P1_Pa = PropsSI('P','T',T1_K,'Q',X1,fluid_low)\n",
    "    \n",
    "    #state 2\n",
    "    s2=s1\n",
    "    T2_K=Tmiddle_K\n",
    "    \n",
    "    h2=PropsSI('H','S',s2,'T',T2_K,fluid_low)\n",
    "    P2_Pa=PropsSI('P','S',s2,'T',T2_K,fluid_low)\n",
    "    \n",
    "    #state 3\n",
    "    P3_Pa=P2_Pa\n",
    "    X3=0\n",
    "    \n",
    "    h3 = PropsSI('H','P',P3_Pa,'Q',X3,fluid_low)\n",
    "    s3 = PropsSI('S','P',P3_Pa,'Q',X3,fluid_low)\n",
    "    T3_K = PropsSI('T','P',P3_Pa,'Q',X3,fluid_low)\n",
    "    \n",
    "    #state 4\n",
    "    P4_Pa=P1_Pa\n",
    "    s4=s3\n",
    "    \n",
    "    h4 = PropsSI('H','S',s4,'P',P4_Pa,fluid_low)\n",
    "    T4_K = PropsSI('T','S',s4,'P',P4_Pa,fluid_low)\n",
    "    \n",
    "    #state 5\n",
    "    T5_K=T3_K\n",
    "    X5=1\n",
    "    \n",
    "    h5 = PropsSI('H','T',T5_K,'Q',X5,fluid_high)\n",
    "    s5 = PropsSI('S','T',T5_K,'Q',X5,fluid_high)\n",
    "    P5_Pa = PropsSI('P','T',T5_K,'Q',X5,fluid_high)\n",
    "    \n",
    "    #state 7\n",
    "    T7_K=18.889+273.15\n",
    "    X7=0\n",
    "    h7 = PropsSI('H','T',T7_K,'Q',X7,fluid_high)\n",
    "    s7 = PropsSI('S','T',T7_K,'Q',X7,fluid_high)\n",
    "    P7_Pa = PropsSI('P','T',T7_K,'Q',X7,fluid_high)\n",
    "    \n",
    "    #state 6\n",
    "    s6=s5\n",
    "    P6_Pa=P7_Pa\n",
    "    h6=PropsSI('H','S',s6,'P',P6_Pa,fluid_high)\n",
    "    T6_K=PropsSI('T','S',s6,'P',P6_Pa,fluid_high)\n",
    "    \n",
    "    #state 8\n",
    "    P8_Pa=P5_Pa\n",
    "    s8=s7\n",
    "    \n",
    "    h8 = PropsSI('H','S',s8,'P',P8_Pa,fluid_high)\n",
    "    T8_K = PropsSI('T','S',s8,'P',P8_Pa,fluid_high)\n",
    "\n",
    "    mdopt_CO2=0.05\n",
    "    mdot_Ammonia= mdopt_CO2* (h2-h3)/(h5-h8)\n",
    "    q_low=mdopt_CO2 * (h1-h4)\n",
    "    q_high=mdot_Ammonia*(h7-h6)\n",
    "    w_low=mdopt_CO2*((h2-h1)-(h3-h4))\n",
    "    w_high=mdot_Ammonia*((h6-h5)-(h7-h8))\n",
    "\n",
    "    \n",
    "\n",
    "    w_in=w_low+w_high\n",
    "    COP_Turbine=q_low/w_in\n",
    "    return COP_Turbine"
   ]
  },
  {
   "cell_type": "code",
   "execution_count": 118,
   "id": "3561e7f9-9dc0-49eb-816b-d6f781054ad0",
   "metadata": {},
   "outputs": [
    {
     "name": "stdout",
     "output_type": "stream",
     "text": [
      "The max COP of 6.24705 occurs when T=13.19983 C or T=286.34983 K \n"
     ]
    },
    {
     "data": {
      "image/png": "[encoded data removed]",
      "text/plain": [
       "<Figure size 640x480 with 1 Axes>"
      ]
     },
     "metadata": {},
     "output_type": "display_data"
    }
   ],
   "source": [
    "T_high_C = 18.889\n",
    "T_low_C = -20\n",
    "T=np.linspace(T_low_C,T_high_C,num=500)\n",
    "\n",
    "COP_Turbine=[]\n",
    "\n",
    "for i in T:\n",
    "    COP2= COP_finder_Turbine(i,T_low_C,T_high_C)\n",
    "    COP_Turbine.append(COP2)\n",
    "\n",
    "plt.plot(T,COP_Turbine,'bo')\n",
    "plt.xlabel(\"T* (C)\")\n",
    "plt.ylabel(\"COP\")\n",
    "\n",
    "max_COP_Turbine=max(COP_Turbine)\n",
    "max_COP_index_Turbine=COP_Turbine.index(max_COP_Turbine)\n",
    "\n",
    "T_max_COP_Turbine=T[max_COP_index_Turbine]\n",
    "\n",
    "print(f'The max COP of {max_COP_Turbine:.5f} occurs when T={T_max_COP_Turbine:.5f} C or T={T_max_COP_Turbine+273.15 :.5f} K ')"
   ]
  },
  {
   "cell_type": "markdown",
   "id": "2cd9bdf3-e033-4834-9e08-a53408d32609",
   "metadata": {},
   "source": [
    "#### Percent increase in COP"
   ]
  },
  {
   "cell_type": "code",
   "execution_count": 115,
   "id": "1d5992b3-2c91-4968-a8ab-d40ef96bfdd5",
   "metadata": {},
   "outputs": [
    {
     "name": "stdout",
     "output_type": "stream",
     "text": [
      "0.002947234373453064\n",
      "8.540082978077999\n"
     ]
    }
   ],
   "source": [
    "PI_optimal_Temp=100*(max_COP-COP)/COP\n",
    "PI_Turbine=100*(max_COP_Turbine-COP)/COP"
   ]
  },
  {
   "cell_type": "code",
   "execution_count": 117,
   "id": "4981564f-0f99-4005-8999-4ca29d238e45",
   "metadata": {},
   "outputs": [
    {
     "name": "stdout",
     "output_type": "stream",
     "text": [
      " The percent increase in COP when we optomize for temperature is 0.00295 when we add the turnine the percent increase in COP becomes 8.54008\n"
     ]
    }
   ],
   "source": [
    "print(f' The percent increase in COP when we optomize for temperature is {PI_optimal_Temp:.5f} when we add the turnine the percent increase in COP becomes {PI_Turbine:.5f}')"
   ]
  },
  {
   "cell_type": "markdown",
   "id": "b42c55a9-e746-457c-b6ec-646fc8f07d41",
   "metadata": {},
   "source": [
    "----\n",
    "\n",
    "## Conclusions (150 words max)\n",
    "To increase the performance we can optimize for temperature. The curve looks quadratic with a peak at T=0.57454C. At either end (where we basically ignore the CO2 cycle or the ammonia cycle) the lowest COP occurs meaning that the cascading refrigeration cycle is optimal to increase COP. This is good because more cooling power can be achieved with the same or lower amount of work. That is beneficial because it means that we can design our system to use the least amount of electrical energy (converting electrical work to compression). \n",
    "Then by adding in a turbine that converts some work to offset work, we were able to further increase COP. We then optimized the system when Tmiddle = 13.19983 C. The COP had an 8.5% increase which is a decent margin when optimizing for performance. The next steps would include picking different fluids. \n"
   ]
  },
  {
   "cell_type": "markdown",
   "id": "2a10618c-a0b6-4fc9-89f5-69fe93833a8d",
   "metadata": {},
   "source": [
    "#### Other fun observations while we were messing with coolprop\n",
    "Also as a fun sidenote we found that propane in the cascading refrigeration cycle as the working fluid for both cycles has roughly equal COP to R134a [6.496] in both cycles which an increase from the COP of the CO2/ammonia cascading cycle which has a max COP of [6.24705]."
   ]
  },
  {
   "cell_type": "code",
   "execution_count": null,
   "id": "d6de4b8a-b662-42d7-8103-6b9d3d321d50",
   "metadata": {},
   "outputs": [],
   "source": []
  }
 ],
 "metadata": {
  "kernelspec": {
   "display_name": "Python 3 (ipykernel)",
   "language": "python",
   "name": "python3"
  },
  "language_info": {
   "codemirror_mode": {
    "name": "ipython",
    "version": 3
   },
   "file_extension": ".py",
   "mimetype": "text/x-python",
   "name": "python",
   "nbconvert_exporter": "python",
   "pygments_lexer": "ipython3",
   "version": "3.11.10"
  }
 },
 "nbformat": 4,
 "nbformat_minor": 5
}
