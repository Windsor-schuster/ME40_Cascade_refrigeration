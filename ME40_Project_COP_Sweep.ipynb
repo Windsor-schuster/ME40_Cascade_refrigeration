{
 "cells": [
  {
   "cell_type": "code",
   "execution_count": 30,
   "id": "7fe3155f-4243-439c-9088-dd2d2a947960",
   "metadata": {},
   "outputs": [
    {
     "name": "stdout",
     "output_type": "stream",
     "text": [
      "Requirement already satisfied: CoolProp in /srv/conda/lib/python3.11/site-packages (6.6.0)\n",
      "Requirement already satisfied: numpy in /srv/conda/lib/python3.11/site-packages (1.26.4)\n",
      "Requirement already satisfied: matplotlib in /srv/conda/lib/python3.11/site-packages (3.9.2)\n",
      "Requirement already satisfied: contourpy>=1.0.1 in /srv/conda/lib/python3.11/site-packages (from matplotlib) (1.3.0)\n",
      "Requirement already satisfied: cycler>=0.10 in /srv/conda/lib/python3.11/site-packages (from matplotlib) (0.12.1)\n",
      "Requirement already satisfied: fonttools>=4.22.0 in /srv/conda/lib/python3.11/site-packages (from matplotlib) (4.54.1)\n",
      "Requirement already satisfied: kiwisolver>=1.3.1 in /srv/conda/lib/python3.11/site-packages (from matplotlib) (1.4.7)\n",
      "Requirement already satisfied: numpy>=1.23 in /srv/conda/lib/python3.11/site-packages (from matplotlib) (1.26.4)\n",
      "Requirement already satisfied: packaging>=20.0 in /srv/conda/lib/python3.11/site-packages (from matplotlib) (24.0)\n",
      "Requirement already satisfied: pillow>=8 in /srv/conda/lib/python3.11/site-packages (from matplotlib) (10.3.0)\n",
      "Requirement already satisfied: pyparsing>=2.3.1 in /srv/conda/lib/python3.11/site-packages (from matplotlib) (3.2.0)\n",
      "Requirement already satisfied: python-dateutil>=2.7 in /srv/conda/lib/python3.11/site-packages (from matplotlib) (2.9.0)\n",
      "Requirement already satisfied: six>=1.5 in /srv/conda/lib/python3.11/site-packages (from python-dateutil>=2.7->matplotlib) (1.16.0)\n"
     ]
    }
   ],
   "source": [
    "!pip install CoolProp\n",
    "!pip install numpy\n",
    "!pip install matplotlib\n",
    "\n",
    "\n",
    "from CoolProp.CoolProp import PropsSI\n",
    "import numpy as np\n",
    "import matplotlib.pyplot as plt"
   ]
  },
  {
   "cell_type": "code",
   "execution_count": 15,
   "id": "d0e78837-35eb-4afb-bc60-ebc716bdaf23",
   "metadata": {},
   "outputs": [],
   "source": [
    "def COP_finder(T,T_low,T_high):\n",
    "    fluid_low = 'CarbonDioxide'\n",
    "    fluid_high = 'Ammonia'\n",
    "    \n",
    "    Tmiddle_K= T+273.15\n",
    "    \n",
    "    #state 1\n",
    "    T1_K=T_low+273.15\n",
    "    X1=1\n",
    "    h1 = PropsSI('H','T',T1_K,'Q',X1,fluid_low)\n",
    "    s1 = PropsSI('S','T',T1_K,'Q',X1,fluid_low)\n",
    "    P1_Pa = PropsSI('P','T',T1_K,'Q',X1,fluid_low)\n",
    "    \n",
    "    #state 5\n",
    "    T5_K=Tmiddle_K\n",
    "    X5=1\n",
    "    h5 = PropsSI('H','T',T5_K,'Q',X5,fluid_high)\n",
    "    s5 = PropsSI('S','T',T5_K,'Q',X5,fluid_high)\n",
    "    P5_Pa = PropsSI('P','T',T5_K,'Q',X5,fluid_high)\n",
    "    \n",
    "    #state 3\n",
    "    T3_K=Tmiddle_K\n",
    "    X3=0\n",
    "    h3 = PropsSI('H','T',T3_K,'Q',X3,fluid_low)\n",
    "    s3 = PropsSI('S','T',T3_K,'Q',X3,fluid_low)\n",
    "    P3_Pa = PropsSI('P','T',T3_K,'Q',X3,fluid_low)\n",
    "    \n",
    "    #state 2\n",
    "    s2=s1\n",
    "    P2_Pa=P3_Pa\n",
    "    h2=PropsSI('H','S',s2,'P',P2_Pa,fluid_low)\n",
    "    T2_K=PropsSI('T','S',s2,'P',P2_Pa,fluid_low)\n",
    "    \n",
    "    #state 4\n",
    "    P4_Pa=P1_Pa\n",
    "    h4=h3\n",
    "    s4 = PropsSI('S','H',h4,'P',P4_Pa,fluid_low)\n",
    "    T4_K = PropsSI('T','H',h4,'P',P4_Pa,fluid_low)\n",
    "    \n",
    "    #state 7\n",
    "    T7_K=T_high+273.15\n",
    "    X7=1\n",
    "    h7 = PropsSI('H','T',T7_K,'Q',X7,fluid_high)\n",
    "    s7 = PropsSI('S','T',T7_K,'Q',X7,fluid_high)\n",
    "    P7_Pa = PropsSI('P','T',T7_K,'Q',X7,fluid_high)\n",
    "    \n",
    "    #state 6\n",
    "    s6=s5\n",
    "    P6_Pa=P7_Pa\n",
    "    h6=PropsSI('H','S',s6,'P',P6_Pa,fluid_high)\n",
    "    T6_K=PropsSI('T','S',s6,'P',P6_Pa,fluid_high)\n",
    "    \n",
    "    #state 8\n",
    "    P8_Pa=P5_Pa\n",
    "    h8=h7\n",
    "    s8 = PropsSI('S','H',h8,'P',P7_Pa,fluid_high)\n",
    "    T8_K = PropsSI('T','H',h8,'P',P7_Pa,fluid_high)\n",
    "\n",
    "    q_low=(h1-h4)\n",
    "    q_high=(h7-h6)\n",
    "    w_low=(h2-h1)\n",
    "    w_high=(h6-h5)\n",
    "\n",
    "    w_in=w_low+w_high\n",
    "    COP=q_low/w_in\n",
    "    return COP"
   ]
  },
  {
   "cell_type": "code",
   "execution_count": 28,
   "id": "787dc33d-00b1-4a61-a2ce-40c908126cd4",
   "metadata": {},
   "outputs": [
    {
     "name": "stdout",
     "output_type": "stream",
     "text": [
      "The max COP of 2.22359 occurs when T=28.32202 C or T=301.47202 K \n"
     ]
    },
    {
     "data": {
      "image/png": "[encoded data removed]",
      "text/plain": [
       "<Figure size 640x480 with 1 Axes>"
      ]
     },
     "metadata": {},
     "output_type": "display_data"
    }
   ],
   "source": [
    "T_high_C = 30.9782\n",
    "T_low_C = -20\n",
    "T=np.linspace(T_low_C,T_high_C,num=500)\n",
    "\n",
    "COP=[]\n",
    "\n",
    "for i in T:\n",
    "    COP1= COP_finder(i,T_low_C,T_high_C)\n",
    "    COP.append(COP1)\n",
    "\n",
    "plt.plot(T,COP,'bo')\n",
    "plt.xlabel(\"T* (C)\")\n",
    "plt.ylabel(\"COP\")\n",
    "\n",
    "max_COP=max(COP)\n",
    "max_COP_index=COP.index(max_COP)\n",
    "\n",
    "T_max_COP=T[max_COP_index]\n",
    "\n",
    "print(f'The max COP of {max_COP:.5f} occurs when T={T_max_COP :.5f} C or T={T_max_COP+273.15 :.5f} K ')\n"
   ]
  },
  {
   "cell_type": "code",
   "execution_count": null,
   "id": "4e7c92d6-89e1-466c-be93-c475aeeb62a8",
   "metadata": {},
   "outputs": [],
   "source": []
  }
 ],
 "metadata": {
  "kernelspec": {
   "display_name": "Python 3 (ipykernel)",
   "language": "python",
   "name": "python3"
  },
  "language_info": {
   "codemirror_mode": {
    "name": "ipython",
    "version": 3
   },
   "file_extension": ".py",
   "mimetype": "text/x-python",
   "name": "python",
   "nbconvert_exporter": "python",
   "pygments_lexer": "ipython3",
   "version": "3.11.10"
  }
 },
 "nbformat": 4,
 "nbformat_minor": 5
}
